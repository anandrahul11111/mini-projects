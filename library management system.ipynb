{
  "nbformat": 4,
  "nbformat_minor": 0,
  "metadata": {
    "colab": {
      "name": "Untitled0.ipynb",
      "provenance": [],
      "authorship_tag": "ABX9TyNFE89udzwxbLHMn1Lay/fE",
      "include_colab_link": true
    },
    "kernelspec": {
      "name": "python3",
      "display_name": "Python 3"
    }
  },
  "cells": [
    {
      "cell_type": "markdown",
      "metadata": {
        "id": "view-in-github",
        "colab_type": "text"
      },
      "source": [
        "<a href=\"https://colab.research.google.com/github/anandrahul11111/mini-projects/blob/main/library%20management%20system.ipynb\" target=\"_parent\"><img src=\"https://colab.research.google.com/assets/colab-badge.svg\" alt=\"Open In Colab\"/></a>"
      ]
    },
    {
      "cell_type": "code",
      "metadata": {
        "colab": {
          "base_uri": "https://localhost:8080/"
        },
        "id": "4Hhl-kqbLPWb",
        "outputId": "dc8d2e6a-ccfc-444c-c4d7-659a9cb99123"
      },
      "source": [
        "class Library:\r\n",
        "  def __init__(self,books):\r\n",
        "    self.books=books\r\n",
        "    self.lendDict={}\r\n",
        "\r\n",
        "  def display(self,books):\r\n",
        "    print(books)\r\n",
        "  \r\n",
        "  def lend_book(self,book,user):\r\n",
        "    if book in self.lendDict:\r\n",
        "      print(f\"{book} is already used by {self.lendDict[book]}\")\r\n",
        "    else:\r\n",
        "      self.lendDict[book]=user\r\n",
        "      print(self.lendDict)\r\n",
        "      print('Databse Updated. You can now take the book.')\r\n",
        "\r\n",
        "  def add_book(self,book):\r\n",
        "    books.append(book)\r\n",
        "    print('Book added succesfully.')\r\n",
        "  \r\n",
        "  def return_book(self,book):\r\n",
        "    self.lendDict.pop(book)\r\n",
        "    print('Book returned successfully.')\r\n",
        "\r\n",
        "books=['Chacha Chaudhary','Python','C++ basics']\r\n",
        "l1=Library(books)\r\n",
        "while True:\r\n",
        "  print('\\nWelcome to Library. Select an option to proceed: ')\r\n",
        "  print('1: Display books\\n2:Lend a book\\n3:Add a book\\n4:Return a book\\n5:Exit\\n')\r\n",
        "  choice=input()\r\n",
        "  if choice not in [\"1\",\"2\",\"3\",\"4\",\"5\"]:\r\n",
        "    print('Please enter a valid Input\\n')\r\n",
        "    continue\r\n",
        "  else:\r\n",
        "    choice=int(choice)\r\n",
        "  if choice==1:\r\n",
        "    l1.display(books)\r\n",
        "  elif choice==2:\r\n",
        "    book=input(\"Enter name of book: \")\r\n",
        "    user=input('Enter your name: ')\r\n",
        "    l1.lend_book(book,user)\r\n",
        "  elif choice==3:\r\n",
        "    book=input('Enter name of book: ')\r\n",
        "    l1.add_book(book)\r\n",
        "  elif choice==4:\r\n",
        "    book=input('Enter name of book: ')\r\n",
        "    l1.return_book(book)\r\n",
        "  elif choice==5:\r\n",
        "    print('Exiting')\r\n",
        "    break"
      ],
      "execution_count": 1,
      "outputs": [
        {
          "output_type": "stream",
          "text": [
            "\n",
            "Welcome to Library. Select an option to proceed: \n",
            "1: Display books\n",
            "2:Lend a book\n",
            "3:Add a book\n",
            "4:Return a book\n",
            "5:Exit\n",
            "\n",
            "5\n",
            "Exiting\n"
          ],
          "name": "stdout"
        }
      ]
    }
  ]
}